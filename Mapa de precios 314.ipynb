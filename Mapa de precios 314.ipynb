{
 "cells": [
  {
   "cell_type": "code",
   "execution_count": 1,
   "id": "ef423fbf",
   "metadata": {},
   "outputs": [],
   "source": [
    "import pandas as pd\n",
    "import folium\n",
    "from datetime import datetime"
   ]
  },
  {
   "cell_type": "code",
   "execution_count": 14,
   "id": "841350d6",
   "metadata": {},
   "outputs": [
    {
     "name": "stdout",
     "output_type": "stream",
     "text": [
      "Descarga completa y archivo guardado como: resolución_314_2024-04-05.csv\n"
     ]
    }
   ],
   "source": [
    "import requests\n",
    "\n",
    "url = 'http://datos.energia.gob.ar/dataset/1c181390-5045-475e-94dc-410429be4b17/resource/80ac25de-a44a-4445-9215-090cf55cfda5/download/precios-en-surtidor-resolucin-3142016.csv'\n",
    "\n",
    "# Descargar el archivo\n",
    "response = requests.get(url)\n",
    "\n",
    "if response.status_code == 200:\n",
    "    # Obtener la fecha de hoy\n",
    "    fecha_hoy = datetime.now().strftime('%Y-%m-%d')\n",
    "\n",
    "    # Nombre del archivo con la fecha de hoy\n",
    "    nombre_archivo = f'resolución_314_{fecha_hoy}.csv'\n",
    "\n",
    "    # Guardar el contenido descargado en un archivo\n",
    "    with open(nombre_archivo, 'wb') as file:\n",
    "        file.write(response.content)\n",
    "\n",
    "    # Cargar el archivo CSV en un DataFrame\n",
    "    reso = pd.read_csv(nombre_archivo)\n",
    "\n",
    "    print('Descarga completa y archivo guardado como:', nombre_archivo)\n",
    "else:\n",
    "    print('Error al descargar el archivo')"
   ]
  },
  {
   "cell_type": "code",
   "execution_count": 15,
   "id": "f395d3bd",
   "metadata": {
    "scrolled": true
   },
   "outputs": [],
   "source": [
    "reso = reso[(reso['idtipohorario']==2)&(reso['fecha_vigencia']>'2024-03-06')]\n",
    "# Crear un diccionario de mapeo para reemplazar los valores\n",
    "mapeo_empresas = {\n",
    "    \"YPF\": \"YPF\",\n",
    "    \"SHELL C.A.P.S.A.\": \"SHELL\",\n",
    "    \"AXION\": \"AXION\",\n",
    "    \"BLANCA\": \"BLANCA\",\n",
    "    \"PUMA\": \"PUMA\"\n",
    "}\n",
    "\n",
    "# Crear una lista de las empresas que no se cambiarán y agregarlas al diccionario\n",
    "empresas_a_mantener = [\"YPF\", \"SHELL C.A.P.S.A.\", \"AXION\", \"BLANCA\", \"PUMA\"]\n",
    "for empresa in reso[\"empresabandera\"].unique():\n",
    "    if empresa not in empresas_a_mantener:\n",
    "        mapeo_empresas[empresa] = \"OTRAS\"\n",
    "\n",
    "# Reemplazar los valores en la columna 'empresabandera' utilizando el diccionario de mapeo\n",
    "reso[\"empresabandera\"] = reso[\"empresabandera\"].replace(mapeo_empresas)\n",
    "reso.dropna(subset='latitud',inplace=True)"
   ]
  },
  {
   "cell_type": "code",
   "execution_count": 21,
   "id": "3aa87cc4",
   "metadata": {},
   "outputs": [],
   "source": [
    "import folium\n",
    "\n",
    "def mapa(producto):\n",
    "    from folium.plugins import MarkerCluster\n",
    "    # Filtramos por el producto\n",
    "    res = reso[reso['producto'] == producto]\n",
    "    mt2 = folium.Map(location=[-34.6, -58.2], zoom_start=7)\n",
    "\n",
    "    # Definimos las capas como un diccionario\n",
    "    layers = {\n",
    "        'YPF': folium.FeatureGroup(name='YPF'),\n",
    "        'SHELL': folium.FeatureGroup(name='SHELL'),\n",
    "        'AXION': folium.FeatureGroup(name='AXION'),\n",
    "        'BLANCA': folium.FeatureGroup(name='BLANCA'),\n",
    "        'PUMA': folium.FeatureGroup(name='PUMA'),\n",
    "        'OTRAS': folium.FeatureGroup(name='OTRAS')\n",
    "    }\n",
    "\n",
    "    # Seteamos los colores que queremos\n",
    "    color_scale = {\n",
    "        'SHELL': {'border': 'orange', 'fill': 'yellow'},\n",
    "        'YPF': {'border': 'blue', 'fill': 'lightblue'},\n",
    "        'AXION': {'border': 'purple', 'fill': 'lavender'},\n",
    "        'PUMA': {'border': 'green', 'fill': 'lightgreen'},\n",
    "        'BLANCA': {'border': 'black', 'fill': 'white'},\n",
    "        'OTRAS': {'border': 'grey', 'fill': 'lightgrey'}\n",
    "    }\n",
    "\n",
    "    #armo función para que cuando pasemos el mouse por el mapa encima de cada estación se vea la fecha de ese precio\n",
    "    def create_hover_popup_content(fecha):\n",
    "        return f'{str(fecha)}</div>'\n",
    "\n",
    "    def create_popup_content(marca, precio):\n",
    "        colors = color_scale.get(marca, {'border': 'purple', 'fill': 'lavender'})\n",
    "        style = f'style=\"font-size: 7pt; color: black; background-color: {colors[\"fill\"]}; padding: 1px; border-radius: 3px; border: 1px solid {colors[\"border\"]}; margin-top: -10px; width: 28px; font-weight: bold;\"'\n",
    "        return f'<div {style}>{str(precio)}</div>'\n",
    "\n",
    "    for bandera in res['empresabandera'].unique():\n",
    "        df = res[res['empresabandera'] == bandera]\n",
    "        for lat, lon, fv, ps in zip(df['latitud'], df['longitud'], df['fecha_vigencia'], df['precio']):\n",
    "            popup_content = create_popup_content(bandera, ps)\n",
    "            hover_popup_content = create_hover_popup_content(fv)\n",
    "            marker = folium.Marker(\n",
    "                location=[lat, lon],\n",
    "                icon=folium.DivIcon(html=f'<div style=\"max-width: 300px;\">{popup_content}</div>')\n",
    "            )\n",
    "            marker.add_child(folium.Tooltip(hover_popup_content))\n",
    "            layers[bandera].add_child(marker)\n",
    "\n",
    "    for layer_name, layer in layers.items():\n",
    "        mt2.add_child(layer)\n",
    "\n",
    "    folium.LayerControl().add_to(mt2)\n",
    "\n",
    "    # Guardar el mapa como un archivo HTML\n",
    "    mt2.save(f'mapa_{producto}.html')\n",
    "    import webbrowser\n",
    "    webbrowser.open(f'mapa_{producto}.html')  # Abrir el archivo HTML en una nueva pestaña del navegador\n"
   ]
  },
  {
   "cell_type": "code",
   "execution_count": null,
   "id": "7dfa8034",
   "metadata": {},
   "outputs": [],
   "source": []
  },
  {
   "cell_type": "code",
   "execution_count": 7,
   "id": "efe9cfff",
   "metadata": {
    "scrolled": true
   },
   "outputs": [],
   "source": [
    "#ejecuto la función para cada producto\n",
    "for producto in reso['producto'].unique():\n",
    "    mapa(producto)"
   ]
  },
  {
   "cell_type": "code",
   "execution_count": null,
   "id": "c4185f18",
   "metadata": {},
   "outputs": [],
   "source": []
  }
 ],
 "metadata": {
  "kernelspec": {
   "display_name": "Python 3 (ipykernel)",
   "language": "python",
   "name": "python3"
  },
  "language_info": {
   "codemirror_mode": {
    "name": "ipython",
    "version": 3
   },
   "file_extension": ".py",
   "mimetype": "text/x-python",
   "name": "python",
   "nbconvert_exporter": "python",
   "pygments_lexer": "ipython3",
   "version": "3.10.9"
  }
 },
 "nbformat": 4,
 "nbformat_minor": 5
}
